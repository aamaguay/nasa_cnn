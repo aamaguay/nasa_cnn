{
 "cells": [
  {
   "cell_type": "code",
   "execution_count": 13,
   "metadata": {},
   "outputs": [],
   "source": [
    "import numpy as np \n",
    "import pandas as pd \n",
    "import matplotlib.pyplot as plt\n",
    "from matplotlib.offsetbox import OffsetImage, AnnotationBbox\n",
    "%matplotlib inline\n",
    "import tensorflow as tf\n",
    "import keras\n",
    "import glob\n",
    "import cv2\n",
    "import pickle, datetime\n",
    "from keras.callbacks import ModelCheckpoint, EarlyStopping, ReduceLROnPlateau, CSVLogger\n",
    "from keras import optimizers\n",
    "from keras.models import Model, Sequential\n",
    "from keras.layers import Dense, Dropout, Flatten, Conv2D, MaxPooling2D,GlobalAveragePooling2D\n",
    "from keras.layers import LSTM, Input, TimeDistributed,Convolution2D,Activation\n",
    "from keras.layers.convolutional import ZeroPadding2D\n",
    "from keras.optimizers import RMSprop, SGD\n",
    "from keras.layers.normalization import BatchNormalization\n",
    "from keras.utils import np_utils\n",
    "from keras import optimizers\n",
    "from keras.preprocessing import sequence\n",
    "from keras.preprocessing.image import ImageDataGenerator, array_to_img, img_to_array, load_img\n",
    "from keras.models import load_model\n",
    "\n",
    "from sklearn.preprocessing import LabelBinarizer\n",
    "from sklearn.ensemble import RandomForestClassifier\n",
    "from sklearn.metrics import accuracy_score\n",
    "# Import the backend\n",
    "from keras import backend as K\n",
    "K.tensorflow_backend._get_available_gpus()\n",
    "import os"
   ]
  },
  {
   "cell_type": "code",
   "execution_count": 14,
   "metadata": {},
   "outputs": [],
   "source": [
    "train_fire_images = []\n",
    "train_fire_labels = [] \n",
    "for directory_path in glob.glob('fire'):\n",
    "    fruit_label = directory_path.split(\"\\\\\")[-1]\n",
    "    for img_path in glob.glob(os.path.join(directory_path, \"*.jpg\")):\n",
    "        img = cv2.imread(img_path, cv2.IMREAD_COLOR)\n",
    "        img = cv2.resize(img, (100, 100))\n",
    "        img = cv2.cvtColor(img, cv2.COLOR_RGB2BGR)\n",
    "        train_fire_images.append(img)\n",
    "        train_fire_labels.append(fruit_label)\n",
    "train_fire_images = np.array(train_fire_images)\n",
    "train_fire_labels = np.array(train_fire_labels)\n",
    "\n",
    "# plt.imshow(train_fire_images[0])"
   ]
  },
  {
   "cell_type": "code",
   "execution_count": 15,
   "metadata": {},
   "outputs": [],
   "source": [
    "label_to_id = {v:i for i,v in enumerate(np.unique(train_fire_labels))}\n",
    "id_to_label = {v: k for k, v in label_to_id.items()}\n",
    "train_label_ids = np.array([label_to_id[x] for x in train_fire_labels])"
   ]
  },
  {
   "cell_type": "code",
   "execution_count": 58,
   "metadata": {},
   "outputs": [
    {
     "data": {
      "text/plain": [
       "'normal'"
      ]
     },
     "execution_count": 58,
     "metadata": {},
     "output_type": "execute_result"
    }
   ],
   "source": [
    "directory_path"
   ]
  },
  {
   "cell_type": "code",
   "execution_count": 16,
   "metadata": {},
   "outputs": [],
   "source": [
    "train_normal_images = []\n",
    "train_normal_labels = [] \n",
    "for directory_path in glob.glob('normal'):\n",
    "    fruit_label = directory_path.split(\"\\\\\")[-1]\n",
    "    for img_path in glob.glob(os.path.join(directory_path, \"*.jpg\")):\n",
    "        img = cv2.imread(img_path, cv2.IMREAD_COLOR)\n",
    "        img = cv2.resize(img, (100, 100))\n",
    "        img = cv2.cvtColor(img, cv2.COLOR_RGB2BGR)\n",
    "        train_normal_images.append(img)\n",
    "        train_normal_labels.append(fruit_label)\n",
    "train_normal_images = np.array(train_normal_images)\n",
    "train_normal_labels = np.array(train_normal_labels)"
   ]
  },
  {
   "cell_type": "code",
   "execution_count": 17,
   "metadata": {},
   "outputs": [
    {
     "name": "stdout",
     "output_type": "stream",
     "text": [
      "{0: 'normal'}\n"
     ]
    }
   ],
   "source": [
    "label_to_id_normal = {v:i for i,v in enumerate(np.unique(train_normal_labels))}\n",
    "id_to_label_normal = {v: k for k, v in label_to_id_normal.items()}\n",
    "train_label_ids_normal = np.array([label_to_id_normal[x] for x in train_normal_labels])\n",
    "print(id_to_label_normal)"
   ]
  },
  {
   "cell_type": "code",
   "execution_count": 18,
   "metadata": {},
   "outputs": [],
   "source": [
    "final_training_labels = np.concatenate((train_fire_labels[:50] , train_normal_labels[:50]))\n",
    "final_training_images = np.concatenate((train_fire_images[:50] , train_normal_images[:50]))\n",
    "final_test_labels = np.concatenate((train_fire_labels[50:100] , train_normal_labels[50:100]))\n",
    "final_test_images = np.concatenate((train_fire_images[50:100] , train_normal_images[50:100]))\n",
    "final_val_labels = np.concatenate((train_fire_labels[100:110] , train_normal_labels[100:110]))\n",
    "final_val_images = np.concatenate((train_fire_images[100:110] , train_normal_images[100:110]))\n",
    "\n"
   ]
  },
  {
   "cell_type": "code",
   "execution_count": 19,
   "metadata": {},
   "outputs": [],
   "source": [
    "y_train_one_hot = np.reshape( ([1]*int((final_training_labels.shape[0]/2))+[0]*int((final_training_labels.shape[0]/2))) , (-1, 1))    \n",
    "y_test_one_hot = np.reshape( ([1]*int((final_test_labels.shape[0]/2))+[0]*int((final_test_labels.shape[0]/2))), (-1, 1)) \n",
    "y_val_one_hot = np.reshape( ([1]*int((final_val_labels.shape[0]/2))+[0]*int((final_val_labels.shape[0]/2))), (-1, 1)) \n"
   ]
  },
  {
   "cell_type": "code",
   "execution_count": 20,
   "metadata": {},
   "outputs": [],
   "source": [
    "# scale pixels\n",
    "# convertir integers to floats\n",
    "train_norm = final_training_images.astype('float32')\n",
    "test_norm = final_test_images.astype('float32')\n",
    "val_norm = final_test_images.astype('float32')\n",
    "\n",
    "# normalizar en rango 0-1\n",
    "train_norm = train_norm / 255.0\n",
    "test_norm = test_norm / 255.0\n",
    "val_norm = val_norm / 255.0\n"
   ]
  },
  {
   "cell_type": "code",
   "execution_count": 21,
   "metadata": {},
   "outputs": [],
   "source": [
    "def define_model():\n",
    "    model = Sequential()\n",
    "    model.add(Conv2D(128, (3, 3), activation='relu', kernel_initializer='he_uniform', padding='same', input_shape=(100,100, 3)))\n",
    "    model.add(BatchNormalization())\n",
    "    model.add(Conv2D(128, (3, 3), activation='relu', kernel_initializer='he_uniform', padding='same'))\n",
    "    model.add(BatchNormalization())\n",
    "    model.add(MaxPooling2D((2, 2)))\n",
    "    model.add(Dropout(0.5))\n",
    "    model.add(Conv2D(256, (3, 3), activation='relu', kernel_initializer='he_uniform', padding='same'))\n",
    "    model.add(BatchNormalization())\n",
    "    model.add(Conv2D(256, (3, 3), activation='relu', kernel_initializer='he_uniform', padding='same'))\n",
    "    model.add(BatchNormalization())\n",
    "    model.add(MaxPooling2D((2, 2)))\n",
    "    model.add(Dropout(0.5))\n",
    "    model.add(Conv2D(256, (3, 3), activation='relu', kernel_initializer='he_uniform', padding='same'))\n",
    "    model.add(BatchNormalization())\n",
    "    model.add(Conv2D(512, (3, 3), activation='relu', kernel_initializer='he_uniform', padding='same'))\n",
    "    model.add(BatchNormalization())\n",
    "    model.add(MaxPooling2D((2, 2)))\n",
    "    model.add(Dropout(0.5))\n",
    "    model.add(Flatten())\n",
    "    model.add(Dense(1000, activation='relu', kernel_initializer='he_uniform'))\n",
    "    model.add(BatchNormalization())\n",
    "    model.add(Dropout(0.5))\n",
    "    model.add(Dense(1, activation='softmax'))\n",
    "    # compile modelo\n",
    "    model.compile(loss='binary_crossentropy', # loss function used for classes that are greater than 2)\n",
    "              optimizer='adam',\n",
    "              metrics=['accuracy'])\n",
    "    return model"
   ]
  },
  {
   "cell_type": "code",
   "execution_count": 22,
   "metadata": {},
   "outputs": [
    {
     "name": "stdout",
     "output_type": "stream",
     "text": [
      "Loaded saved model...\n"
     ]
    }
   ],
   "source": [
    "model = None\n",
    "try:\n",
    "    model = pickle.load(open(\"cnn_model_2\", 'rb'))\n",
    "    print(\"Loaded saved model...\")\n",
    "except FileNotFoundError:\n",
    "    print(\"Model not found\")"
   ]
  },
  {
   "cell_type": "code",
   "execution_count": 23,
   "metadata": {},
   "outputs": [],
   "source": [
    "import time\n",
    "stime = time.time()\n",
    "def print_time(text, stime):\n",
    "    seconds = (time.time()-stime)\n",
    "    print(text, seconds//60,\"minutes : \",np.round(seconds%60),\"seconds\")"
   ]
  },
  {
   "cell_type": "code",
   "execution_count": 24,
   "metadata": {},
   "outputs": [
    {
     "name": "stdout",
     "output_type": "stream",
     "text": [
      "Building model...\n",
      "checking if GPU available []\n",
      "Train on 100 samples, validate on 100 samples\n",
      "Epoch 1/3\n",
      " - 129s - loss: 7.9712 - acc: 0.5000 - val_loss: 7.9712 - val_acc: 0.5000\n",
      "Epoch 2/3\n",
      " - 59s - loss: 7.9712 - acc: 0.5000 - val_loss: 7.9712 - val_acc: 0.5000\n",
      "Epoch 3/3\n",
      " - 55s - loss: 7.9712 - acc: 0.5000 - val_loss: 7.9712 - val_acc: 0.5000\n",
      "saving model...\n"
     ]
    }
   ],
   "source": [
    "is_update_model = True\n",
    "if model is None or is_update_model:\n",
    "    from keras import backend as K\n",
    "    print(\"Building model...\")\n",
    "    print(\"checking if GPU available\", K.tensorflow_backend._get_available_gpus())\n",
    "    model = define_model()\n",
    "    \n",
    "    es = EarlyStopping(monitor='val_loss', mode='min', verbose=1,\n",
    "                       patience=40, min_delta=0.001)\n",
    "    \n",
    "    # filepath='/tmp/weights.hdf5'\n",
    "    mcp = ModelCheckpoint(os.path.join(os.getcwd(),\"best_model_cnn_2.h5\"),\n",
    "                           monitor='accuracy', verbose=1,\n",
    "                          save_best_only=True, save_weights_only=False, mode='min', period=1)\n",
    "        \n",
    "    #csv_logger = CSVLogger( , append=True)\n",
    "    #csv_logger = CSVLogger(os.path.join('./deep-learning-project/', 'training_log_' + time.ctime().replace(\" \",\"_\") + '.log'), append=True)\n",
    "    csv_logger = CSVLogger('training_cnn_2.log', append=True)\n",
    "    \n",
    "    \n",
    "    history = model.fit(train_norm, y_train_one_hot, batch_size=20, epochs= 3,verbose=2, \n",
    "                       validation_data=[test_norm,y_test_one_hot], callbacks=[es, mcp, csv_logger])\n",
    "        \n",
    "    #history= model.fit(train_norm, y_train_one_hot, \n",
    "     #          batch_size=30, epochs=4, validation_split=0.3 )\n",
    "    \n",
    "    \n",
    "    print(\"saving model...\")\n",
    "    pickle.dump(model, open(\"cnn_model_2\", \"wb\"))"
   ]
  },
  {
   "cell_type": "code",
   "execution_count": null,
   "metadata": {},
   "outputs": [],
   "source": []
  },
  {
   "cell_type": "code",
   "execution_count": 25,
   "metadata": {},
   "outputs": [
    {
     "data": {
      "image/png": "[encoded data removed]",
      "text/plain": [
       "<Figure size 432x288 with 1 Axes>"
      ]
     },
     "metadata": {
      "needs_background": "light"
     },
     "output_type": "display_data"
    }
   ],
   "source": [
    "plt.figure()\n",
    "plt.plot(history.history['loss'])\n",
    "plt.plot(history.history['val_loss'])\n",
    "plt.title('Model loss')\n",
    "plt.ylabel('Loss')\n",
    "plt.xlabel('Epoch')\n",
    "plt.legend(['Train', 'Test'], loc='best')\n",
    "plt.show()"
   ]
  },
  {
   "cell_type": "code",
   "execution_count": 170,
   "metadata": {},
   "outputs": [],
   "source": [
    "#model.save('best_cnn.h5')\n",
    "saved_model = load_model(os.path.join(os.getcwd(), 'best_cnn.h5')) # , \"lstm_best_7-3-19_12AM\",\n",
    "saved_model_alex = load_model(os.path.join(os.getcwd(), 'alexnetfruit.h5'))\n",
    "#print(saved_model)"
   ]
  },
  {
   "cell_type": "code",
   "execution_count": 29,
   "metadata": {},
   "outputs": [
    {
     "name": "stdout",
     "output_type": "stream",
     "text": [
      "<keras.engine.sequential.Sequential object at 0x000001773FD5CE80>\n"
     ]
    }
   ],
   "source": [
    "print(saved_model)"
   ]
  },
  {
   "cell_type": "code",
   "execution_count": 31,
   "metadata": {},
   "outputs": [],
   "source": [
    "y_pred = model.predict(val_norm)"
   ]
  },
  {
   "cell_type": "code",
   "execution_count": 47,
   "metadata": {},
   "outputs": [],
   "source": [
    "y_pred_1=  model.predict(val_norm)"
   ]
  },
  {
   "cell_type": "code",
   "execution_count": null,
   "metadata": {},
   "outputs": [],
   "source": []
  },
  {
   "cell_type": "code",
   "execution_count": 96,
   "metadata": {},
   "outputs": [],
   "source": [
    "import cv2\n",
    "img_1 = cv2.imread(\"C:/Users/User/Desktop/nasa/22eqf.jpg\", cv2.IMREAD_COLOR)\n",
    "img_1= cv2.resize(img_1, (100, 100))\n",
    "img_1= cv2.cvtColor(img_1, cv2.COLOR_RGB2BGR)\n",
    "img_1_4d= np.expand_dims(img_1, 0)\n",
    "y_pred_img_1 = saved_model.predict(img_1_4d)"
   ]
  },
  {
   "cell_type": "code",
   "execution_count": null,
   "metadata": {},
   "outputs": [],
   "source": []
  },
  {
   "cell_type": "code",
   "execution_count": 174,
   "metadata": {},
   "outputs": [],
   "source": [
    "img_ = cv2.imread(\"C:/Users/User/Desktop/nasa/1.jpg\", cv2.IMREAD_COLOR)\n",
    "img_= cv2.resize(img_, (227, 227))\n",
    "img_= cv2.cvtColor(img_, cv2.COLOR_RGB2BGR)\n",
    "img_4d= np.expand_dims(img_, 0)\n",
    "y_pred_img_ = saved_model_alex.predict(img_4d)"
   ]
  },
  {
   "cell_type": "code",
   "execution_count": 180,
   "metadata": {},
   "outputs": [
    {
     "data": {
      "text/plain": [
       "array([[1.]], dtype=float32)"
      ]
     },
     "execution_count": 180,
     "metadata": {},
     "output_type": "execute_result"
    }
   ],
   "source": [
    "y_pred_img_"
   ]
  },
  {
   "cell_type": "code",
   "execution_count": null,
   "metadata": {},
   "outputs": [],
   "source": []
  },
  {
   "cell_type": "code",
   "execution_count": null,
   "metadata": {},
   "outputs": [],
   "source": []
  },
  {
   "cell_type": "code",
   "execution_count": null,
   "metadata": {},
   "outputs": [],
   "source": []
  },
  {
   "cell_type": "code",
   "execution_count": null,
   "metadata": {},
   "outputs": [],
   "source": []
  }
 ],
 "metadata": {
  "kernelspec": {
   "display_name": "Python 3",
   "language": "python",
   "name": "python3"
  },
  "language_info": {
   "codemirror_mode": {
    "name": "ipython",
    "version": 3
   },
   "file_extension": ".py",
   "mimetype": "text/x-python",
   "name": "python",
   "nbconvert_exporter": "python",
   "pygments_lexer": "ipython3",
   "version": "3.6.8"
  }
 },
 "nbformat": 4,
 "nbformat_minor": 2
}
